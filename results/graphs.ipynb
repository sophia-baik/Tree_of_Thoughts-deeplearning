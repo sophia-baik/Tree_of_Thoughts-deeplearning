{
 "cells": [
  {
   "cell_type": "code",
   "execution_count": null,
   "id": "403f4b00",
   "metadata": {},
   "outputs": [],
   "source": [
    "import matplotlib.pyplot as plt"
   ]
  },
  {
   "cell_type": "markdown",
   "id": "db028950",
   "metadata": {},
   "source": [
    "## Performance data"
   ]
  },
  {
   "cell_type": "code",
   "execution_count": null,
   "id": "b3905083",
   "metadata": {},
   "outputs": [],
   "source": [
    "# x-axis - difficulty: 1 to 5\n",
    "x_axis = [1,2,3,4,5]\n",
    "\n",
    "# 5-shot\n",
    "fiveshot = [0.16, 0.12, 0.12, 0.04, 0.04]\n",
    "\n",
    "# ToT w/ LLM eval\n",
    "ToT_llm = [0.81, 0.556, 0.41, 0.25, 0.12]\n",
    "\n",
    "# ToT w/ learned eval\n",
    "ToT_learned = [0.36, 0.333, 0.242857, 0.183, 0.0705]\n",
    "\n",
    "plt.figure(figsize=(8, 6))\n",
    "plt.plot(x_axis, fiveshot, marker='o', label='5-shot')\n",
    "plt.plot(x_axis, ToT_llm, marker='s', label='ToT w/ LLM eval')\n",
    "plt.plot(x_axis, ToT_learned, marker='^', label='ToT w/ learned eval')\n",
    "\n",
    "plt.scatter(2.88, 0.74, color='black', marker='x', s=100, label=\"Paper's ToT\")\n",
    "# plt.scatter(2.88, 0.49, color='blue', marker='x', s=100, label=\"Our ToT\")\n",
    "\n",
    "# Labels and title\n",
    "plt.xlabel('Difficulty Level')\n",
    "plt.ylabel('Accuracy')\n",
    "plt.title('Accuracy by Difficulty Level')\n",
    "plt.xticks(x_axis)  # Ensure x-axis shows only 1–5\n",
    "plt.legend()\n",
    "plt.tight_layout()\n",
    "plt.show()"
   ]
  },
  {
   "cell_type": "code",
   "execution_count": null,
   "id": "8f210555",
   "metadata": {},
   "outputs": [],
   "source": []
  }
 ],
 "metadata": {
  "kernelspec": {
   "display_name": "Python 3",
   "language": "python",
   "name": "python3"
  },
  "language_info": {
   "codemirror_mode": {
    "name": "ipython",
    "version": 3
   },
   "file_extension": ".py",
   "mimetype": "text/x-python",
   "name": "python",
   "nbconvert_exporter": "python",
   "pygments_lexer": "ipython3",
   "version": "3.11.5"
  }
 },
 "nbformat": 4,
 "nbformat_minor": 5
}
